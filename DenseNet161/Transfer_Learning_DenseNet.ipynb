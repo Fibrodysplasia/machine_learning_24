{
  "nbformat": 4,
  "nbformat_minor": 0,
  "metadata": {
    "colab": {
      "provenance": [],
      "gpuType": "T4"
    },
    "kernelspec": {
      "name": "python3",
      "display_name": "Python 3"
    },
    "language_info": {
      "name": "python"
    },
    "accelerator": "GPU"
  },
  "cells": [
    {
      "cell_type": "code",
      "execution_count": 9,
      "metadata": {
        "id": "KfPA76HTflpa"
      },
      "outputs": [],
      "source": [
        "# Imports\n",
        "import torch\n",
        "from torch import nn\n",
        "from torch.utils.data import DataLoader\n",
        "import torchvision\n",
        "from torchvision import datasets\n",
        "from torchvision import transforms\n",
        "import tqdm\n",
        "import numpy as np\n",
        "from sklearn.metrics import f1_score"
      ]
    },
    {
      "cell_type": "code",
      "source": [
        "# Download the data\n",
        "\n",
        "transform_train = transforms.Compose([\n",
        "    # transforms.Resize(224),\n",
        "    transforms.ToTensor(),\n",
        "])\n",
        "\n",
        "transform_test = transforms.Compose([\n",
        "    # transforms.Resize(224),\n",
        "    transforms.ToTensor(),\n",
        "])\n",
        "\n",
        "training_data = datasets.CIFAR100(\n",
        "    root = 'data',\n",
        "    train = True,\n",
        "    download = True,\n",
        "    transform = transform_train\n",
        ")\n",
        "\n",
        "testing_data = datasets.CIFAR100(\n",
        "    root = 'data',\n",
        "    train = False,\n",
        "    download = True,\n",
        "    transform = transform_test\n",
        ")\n",
        "classes = training_data.classes\n",
        "\n",
        "# DataLoader pytorch.org/docs/stable/data.html\n",
        "batch_size = 32\n",
        "training_dataloader = DataLoader(training_data, batch_size=batch_size)\n",
        "testing_dataloader = DataLoader(testing_data, batch_size=batch_size)\n",
        "\n",
        "# For CIFAR-100 we expect 60k total images\n",
        "# 100 classes with 600 images each\n",
        "# that's 50k training and 10k testing (500 training/100 testing per class)\n",
        "print(f'training: {batch_size*len(training_dataloader)}, testing: {batch_size*len(testing_dataloader)}')"
      ],
      "metadata": {
        "colab": {
          "base_uri": "https://localhost:8080/"
        },
        "id": "lw8bACNWfyiK",
        "outputId": "4c0d78fb-8b61-4c81-d4b3-e70050a98c0d"
      },
      "execution_count": 10,
      "outputs": [
        {
          "output_type": "stream",
          "name": "stdout",
          "text": [
            "Files already downloaded and verified\n",
            "Files already downloaded and verified\n",
            "training: 50016, testing: 10016\n"
          ]
        }
      ]
    },
    {
      "cell_type": "code",
      "source": [
        "# Define Training/Testing\n",
        "\n",
        "# train\n",
        "def train(dataloader, model, loss_fn, optimizer, device):\n",
        "  model.train()\n",
        "  # step being a training step\n",
        "  for step, (X, y) in enumerate(dataloader):\n",
        "    # send to CPU/GPU\n",
        "    X = X.to(device)\n",
        "    y = y.to(device)\n",
        "    # model's prediction\n",
        "    pred = model(X)\n",
        "    # get loss\n",
        "    loss = loss_fn(pred, y)\n",
        "    # backprop\n",
        "    optimizer.zero_grad()\n",
        "    loss.backward()\n",
        "    optimizer.step()\n",
        "\n",
        "    # progress check\n",
        "    if step % 100 == 0:\n",
        "      print(f'step: {step}, loss: {loss.item()}')\n",
        "\n",
        "# validation\n",
        "def test(dataloader, model, loss_fn, device):\n",
        "  num_steps = len(dataloader)\n",
        "  model.eval()\n",
        "  test_loss = 0\n",
        "  correct = 0\n",
        "  y_true = []\n",
        "  y_predicted = []\n",
        "\n",
        "  with torch.no_grad():\n",
        "    for X, y in dataloader:\n",
        "      X = X.to(device)\n",
        "      y = y.to(device)\n",
        "      pred = model(X)\n",
        "      loss = loss_fn(pred, y)\n",
        "      test_loss += loss.item()\n",
        "      y_true.extend(y.cpu().numpy())\n",
        "      y_hat = pred.argmax(1)\n",
        "      y_predicted.extend(y_hat.cpu().numpy())\n",
        "      correct_step = (y_hat == y).type(torch.float).sum().item()\n",
        "      correct += correct_step\n",
        "\n",
        "  test_loss /= num_steps # average loss\n",
        "  correct = correct / (num_steps * batch_size)\n",
        "  f1 = f1_score(y_true, y_predicted, average='macro')\n",
        "\n",
        "  print()\n",
        "  print(f'F1 Score: {f1}')\n",
        "  print(f'Test Accuracy: {correct}')"
      ],
      "metadata": {
        "id": "d8cOUm20iVyW"
      },
      "execution_count": 11,
      "outputs": []
    },
    {
      "cell_type": "code",
      "source": [
        "# get device\n",
        "device = 'cuda' if torch.cuda.is_available() else 'cpu'\n",
        "# create model\n",
        "# https://pytorch.org/vision/main/models/generated/torchvision.models.densenet161.html\n",
        "model = torchvision.models.densenet161(pretrained=True).to(device)\n",
        "epochs = 20\n",
        "lr = 5e-3\n",
        "# optimize\n",
        "loss_fn = nn.CrossEntropyLoss()\n",
        "optimizer = torch.optim.SGD(model.parameters(), lr=lr)\n",
        "\n",
        "print(f'Using {device}')\n",
        "print(f'Optimizer: {optimizer}')\n",
        "print(f'Epochs {epochs}')\n",
        "print(f'Batch Size: {batch_size}')\n",
        "print(f'Model Info: DenseNet161, pretrained=True')\n",
        "\n",
        "for t in tqdm.tqdm(range(epochs)):\n",
        "  print(f'Epoch\\n\\n{t}')\n",
        "  train(training_dataloader, model, loss_fn, optimizer, device)\n",
        "  test(testing_dataloader, model, loss_fn, device)\n",
        "print('Done!')"
      ],
      "metadata": {
        "colab": {
          "base_uri": "https://localhost:8080/"
        },
        "id": "HxvBSAkmiWw8",
        "outputId": "72ee2c8a-6e54-4bb8-b972-c23d5227475e"
      },
      "execution_count": null,
      "outputs": [
        {
          "output_type": "stream",
          "name": "stdout",
          "text": [
            "Using cuda\n",
            "Optimizer: SGD (\n",
            "Parameter Group 0\n",
            "    dampening: 0\n",
            "    differentiable: False\n",
            "    foreach: None\n",
            "    lr: 0.005\n",
            "    maximize: False\n",
            "    momentum: 0\n",
            "    nesterov: False\n",
            "    weight_decay: 0\n",
            ")\n",
            "Epochs 20\n",
            "Batch Size: 32\n",
            "Model Info: DenseNet161, pretrained=True\n"
          ]
        },
        {
          "output_type": "stream",
          "name": "stderr",
          "text": [
            "\r  0%|          | 0/20 [00:00<?, ?it/s]"
          ]
        },
        {
          "output_type": "stream",
          "name": "stdout",
          "text": [
            "Epoch\n",
            "\n",
            "0\n",
            "step: 0, loss: 10.569035530090332\n",
            "step: 100, loss: 6.157524585723877\n",
            "step: 200, loss: 4.524527549743652\n",
            "step: 300, loss: 3.9918622970581055\n",
            "step: 400, loss: 3.9092514514923096\n",
            "step: 500, loss: 3.6556596755981445\n",
            "step: 600, loss: 3.5589535236358643\n",
            "step: 700, loss: 3.1670079231262207\n",
            "step: 800, loss: 3.085367441177368\n",
            "step: 900, loss: 2.7142293453216553\n",
            "step: 1000, loss: 3.3854563236236572\n",
            "step: 1100, loss: 2.7954368591308594\n",
            "step: 1200, loss: 2.8231310844421387\n",
            "step: 1300, loss: 2.2252354621887207\n",
            "step: 1400, loss: 2.3094258308410645\n",
            "step: 1500, loss: 2.0886924266815186\n"
          ]
        },
        {
          "output_type": "stream",
          "name": "stderr",
          "text": [
            "\r  5%|▌         | 1/20 [02:40<50:47, 160.39s/it]"
          ]
        },
        {
          "output_type": "stream",
          "name": "stdout",
          "text": [
            "\n",
            "F1 Score: 0.4175311028826729\n",
            "Test Accuracy: 0.42881389776357826\n",
            "Epoch\n",
            "\n",
            "1\n",
            "step: 0, loss: 2.351440668106079\n",
            "step: 100, loss: 2.2499895095825195\n",
            "step: 200, loss: 2.6001229286193848\n",
            "step: 300, loss: 2.334850549697876\n",
            "step: 400, loss: 1.6023976802825928\n",
            "step: 500, loss: 2.039435863494873\n",
            "step: 600, loss: 1.8762636184692383\n",
            "step: 700, loss: 1.8295605182647705\n",
            "step: 800, loss: 1.5898487567901611\n",
            "step: 900, loss: 1.7446368932724\n",
            "step: 1000, loss: 1.9510353803634644\n",
            "step: 1100, loss: 2.355841636657715\n",
            "step: 1200, loss: 1.464699625968933\n",
            "step: 1300, loss: 1.4554919004440308\n",
            "step: 1400, loss: 1.4406678676605225\n",
            "step: 1500, loss: 1.4896397590637207\n"
          ]
        },
        {
          "output_type": "stream",
          "name": "stderr",
          "text": [
            "\r 10%|█         | 2/20 [05:25<48:54, 163.05s/it]"
          ]
        },
        {
          "output_type": "stream",
          "name": "stdout",
          "text": [
            "\n",
            "F1 Score: 0.503381254780416\n",
            "Test Accuracy: 0.5143769968051118\n",
            "Epoch\n",
            "\n",
            "2\n",
            "step: 0, loss: 1.537580966949463\n",
            "step: 100, loss: 1.4868738651275635\n",
            "step: 200, loss: 1.7044000625610352\n",
            "step: 300, loss: 1.6389195919036865\n",
            "step: 400, loss: 1.066754937171936\n",
            "step: 500, loss: 1.5143752098083496\n",
            "step: 600, loss: 1.146845817565918\n",
            "step: 700, loss: 1.2082693576812744\n",
            "step: 800, loss: 1.1574392318725586\n",
            "step: 900, loss: 1.377935767173767\n",
            "step: 1000, loss: 1.370314598083496\n",
            "step: 1100, loss: 1.739896297454834\n",
            "step: 1200, loss: 1.1123261451721191\n",
            "step: 1300, loss: 0.7336320877075195\n",
            "step: 1400, loss: 0.7765432000160217\n",
            "step: 1500, loss: 0.8085036873817444\n"
          ]
        },
        {
          "output_type": "stream",
          "name": "stderr",
          "text": [
            "\r 15%|█▌        | 3/20 [08:10<46:29, 164.08s/it]"
          ]
        },
        {
          "output_type": "stream",
          "name": "stdout",
          "text": [
            "\n",
            "F1 Score: 0.5468895652485322\n",
            "Test Accuracy: 0.5493210862619808\n",
            "Epoch\n",
            "\n",
            "3\n",
            "step: 0, loss: 0.916140079498291\n",
            "step: 100, loss: 1.0493768453598022\n",
            "step: 200, loss: 1.69439697265625\n",
            "step: 300, loss: 1.380802869796753\n",
            "step: 400, loss: 1.1994476318359375\n",
            "step: 500, loss: 0.8548982739448547\n",
            "step: 600, loss: 0.778311550617218\n"
          ]
        }
      ]
    }
  ]
}